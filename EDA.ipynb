{
 "cells": [
  {
   "cell_type": "markdown",
   "id": "24d3a602",
   "metadata": {},
   "source": [
    "### Importing the Necessary library"
   ]
  },
  {
   "cell_type": "code",
   "execution_count": 6,
   "id": "e4d26192",
   "metadata": {},
   "outputs": [],
   "source": [
    "import pandas as pd\n",
    "import numpy as np\n",
    "import matplotlib.pyplot as plt\n",
    "import seaborn as sns"
   ]
  },
  {
   "cell_type": "code",
   "execution_count": 7,
   "id": "7a806b62",
   "metadata": {},
   "outputs": [],
   "source": [
    "df = pd.read_csv(\"smartphones_data.csv\")"
   ]
  },
  {
   "cell_type": "code",
   "execution_count": 8,
   "id": "52dabab0",
   "metadata": {},
   "outputs": [
    {
     "data": {
      "text/html": [
       "<div>\n",
       "<style scoped>\n",
       "    .dataframe tbody tr th:only-of-type {\n",
       "        vertical-align: middle;\n",
       "    }\n",
       "\n",
       "    .dataframe tbody tr th {\n",
       "        vertical-align: top;\n",
       "    }\n",
       "\n",
       "    .dataframe thead th {\n",
       "        text-align: right;\n",
       "    }\n",
       "</style>\n",
       "<table border=\"1\" class=\"dataframe\">\n",
       "  <thead>\n",
       "    <tr style=\"text-align: right;\">\n",
       "      <th></th>\n",
       "      <th>brand_name</th>\n",
       "      <th>Name</th>\n",
       "      <th>Price</th>\n",
       "      <th>RAM</th>\n",
       "      <th>OS</th>\n",
       "      <th>storage</th>\n",
       "      <th>Battery_cap</th>\n",
       "      <th>has_fast_charging</th>\n",
       "      <th>has_fingerprints</th>\n",
       "      <th>has_nfc</th>\n",
       "      <th>has_5g</th>\n",
       "      <th>processor_brand</th>\n",
       "      <th>num_core</th>\n",
       "      <th>primery_rear_camera</th>\n",
       "      <th>Num_Rear_Cameras</th>\n",
       "      <th>primery_front_camera</th>\n",
       "      <th>num_front_camera</th>\n",
       "      <th>display_size(inch)</th>\n",
       "      <th>refresh_rate(hz)</th>\n",
       "      <th>display_types</th>\n",
       "    </tr>\n",
       "  </thead>\n",
       "  <tbody>\n",
       "    <tr>\n",
       "      <th>0</th>\n",
       "      <td>vivo</td>\n",
       "      <td>vivo v50</td>\n",
       "      <td>34999</td>\n",
       "      <td>8.0</td>\n",
       "      <td>android</td>\n",
       "      <td>128.0</td>\n",
       "      <td>6000</td>\n",
       "      <td>Yes</td>\n",
       "      <td>Yes</td>\n",
       "      <td>No</td>\n",
       "      <td>Yes</td>\n",
       "      <td>snapdragon</td>\n",
       "      <td>8.0</td>\n",
       "      <td>50.0</td>\n",
       "      <td>2</td>\n",
       "      <td>50.0</td>\n",
       "      <td>1</td>\n",
       "      <td>6.77</td>\n",
       "      <td>120.0</td>\n",
       "      <td>amoled display</td>\n",
       "    </tr>\n",
       "    <tr>\n",
       "      <th>1</th>\n",
       "      <td>realme</td>\n",
       "      <td>realme p3 pro</td>\n",
       "      <td>21999</td>\n",
       "      <td>8.0</td>\n",
       "      <td>android</td>\n",
       "      <td>128.0</td>\n",
       "      <td>6000</td>\n",
       "      <td>Yes</td>\n",
       "      <td>Yes</td>\n",
       "      <td>No</td>\n",
       "      <td>Yes</td>\n",
       "      <td>snapdragon</td>\n",
       "      <td>8.0</td>\n",
       "      <td>50.0</td>\n",
       "      <td>2</td>\n",
       "      <td>16.0</td>\n",
       "      <td>1</td>\n",
       "      <td>6.83</td>\n",
       "      <td>120.0</td>\n",
       "      <td>amoled display</td>\n",
       "    </tr>\n",
       "    <tr>\n",
       "      <th>2</th>\n",
       "      <td>realme</td>\n",
       "      <td>realme 14 pro plus</td>\n",
       "      <td>27999</td>\n",
       "      <td>8.0</td>\n",
       "      <td>android</td>\n",
       "      <td>128.0</td>\n",
       "      <td>6000</td>\n",
       "      <td>Yes</td>\n",
       "      <td>Yes</td>\n",
       "      <td>No</td>\n",
       "      <td>Yes</td>\n",
       "      <td>snapdragon</td>\n",
       "      <td>8.0</td>\n",
       "      <td>50.0</td>\n",
       "      <td>3</td>\n",
       "      <td>32.0</td>\n",
       "      <td>1</td>\n",
       "      <td>6.83</td>\n",
       "      <td>120.0</td>\n",
       "      <td>oled display</td>\n",
       "    </tr>\n",
       "    <tr>\n",
       "      <th>3</th>\n",
       "      <td>samsung</td>\n",
       "      <td>samsung galaxy s25 ultra</td>\n",
       "      <td>129999</td>\n",
       "      <td>12.0</td>\n",
       "      <td>android</td>\n",
       "      <td>256.0</td>\n",
       "      <td>5000</td>\n",
       "      <td>Yes</td>\n",
       "      <td>Yes</td>\n",
       "      <td>Yes</td>\n",
       "      <td>Yes</td>\n",
       "      <td>snapdragon</td>\n",
       "      <td>8.0</td>\n",
       "      <td>200.0</td>\n",
       "      <td>4</td>\n",
       "      <td>12.0</td>\n",
       "      <td>1</td>\n",
       "      <td>6.90</td>\n",
       "      <td>120.0</td>\n",
       "      <td>amoled display</td>\n",
       "    </tr>\n",
       "    <tr>\n",
       "      <th>4</th>\n",
       "      <td>vivo</td>\n",
       "      <td>vivo t3 pro</td>\n",
       "      <td>22999</td>\n",
       "      <td>8.0</td>\n",
       "      <td>android</td>\n",
       "      <td>128.0</td>\n",
       "      <td>5500</td>\n",
       "      <td>Yes</td>\n",
       "      <td>Yes</td>\n",
       "      <td>No</td>\n",
       "      <td>Yes</td>\n",
       "      <td>snapdragon</td>\n",
       "      <td>8.0</td>\n",
       "      <td>50.0</td>\n",
       "      <td>2</td>\n",
       "      <td>16.0</td>\n",
       "      <td>1</td>\n",
       "      <td>6.77</td>\n",
       "      <td>120.0</td>\n",
       "      <td>amoled display</td>\n",
       "    </tr>\n",
       "  </tbody>\n",
       "</table>\n",
       "</div>"
      ],
      "text/plain": [
       "  brand_name                      Name   Price   RAM       OS  storage  \\\n",
       "0       vivo                  vivo v50   34999   8.0  android    128.0   \n",
       "1     realme             realme p3 pro   21999   8.0  android    128.0   \n",
       "2     realme        realme 14 pro plus   27999   8.0  android    128.0   \n",
       "3    samsung  samsung galaxy s25 ultra  129999  12.0  android    256.0   \n",
       "4       vivo               vivo t3 pro   22999   8.0  android    128.0   \n",
       "\n",
       "   Battery_cap has_fast_charging has_fingerprints has_nfc has_5g  \\\n",
       "0         6000               Yes              Yes      No    Yes   \n",
       "1         6000               Yes              Yes      No    Yes   \n",
       "2         6000               Yes              Yes      No    Yes   \n",
       "3         5000               Yes              Yes     Yes    Yes   \n",
       "4         5500               Yes              Yes      No    Yes   \n",
       "\n",
       "  processor_brand  num_core  primery_rear_camera  Num_Rear_Cameras  \\\n",
       "0      snapdragon       8.0                 50.0                 2   \n",
       "1      snapdragon       8.0                 50.0                 2   \n",
       "2      snapdragon       8.0                 50.0                 3   \n",
       "3      snapdragon       8.0                200.0                 4   \n",
       "4      snapdragon       8.0                 50.0                 2   \n",
       "\n",
       "   primery_front_camera  num_front_camera  display_size(inch)  \\\n",
       "0                  50.0                 1                6.77   \n",
       "1                  16.0                 1                6.83   \n",
       "2                  32.0                 1                6.83   \n",
       "3                  12.0                 1                6.90   \n",
       "4                  16.0                 1                6.77   \n",
       "\n",
       "   refresh_rate(hz)   display_types  \n",
       "0             120.0  amoled display  \n",
       "1             120.0  amoled display  \n",
       "2             120.0    oled display  \n",
       "3             120.0  amoled display  \n",
       "4             120.0  amoled display  "
      ]
     },
     "execution_count": 8,
     "metadata": {},
     "output_type": "execute_result"
    }
   ],
   "source": [
    "df.head()"
   ]
  },
  {
   "cell_type": "code",
   "execution_count": 9,
   "id": "bb47825d",
   "metadata": {},
   "outputs": [
    {
     "data": {
      "text/html": [
       "<div>\n",
       "<style scoped>\n",
       "    .dataframe tbody tr th:only-of-type {\n",
       "        vertical-align: middle;\n",
       "    }\n",
       "\n",
       "    .dataframe tbody tr th {\n",
       "        vertical-align: top;\n",
       "    }\n",
       "\n",
       "    .dataframe thead th {\n",
       "        text-align: right;\n",
       "    }\n",
       "</style>\n",
       "<table border=\"1\" class=\"dataframe\">\n",
       "  <thead>\n",
       "    <tr style=\"text-align: right;\">\n",
       "      <th></th>\n",
       "      <th>Price</th>\n",
       "      <th>RAM</th>\n",
       "      <th>storage</th>\n",
       "      <th>Battery_cap</th>\n",
       "      <th>num_core</th>\n",
       "      <th>primery_rear_camera</th>\n",
       "      <th>Num_Rear_Cameras</th>\n",
       "      <th>primery_front_camera</th>\n",
       "      <th>num_front_camera</th>\n",
       "      <th>display_size(inch)</th>\n",
       "      <th>refresh_rate(hz)</th>\n",
       "    </tr>\n",
       "  </thead>\n",
       "  <tbody>\n",
       "    <tr>\n",
       "      <th>count</th>\n",
       "      <td>3260.000000</td>\n",
       "      <td>3260.000000</td>\n",
       "      <td>3260.000000</td>\n",
       "      <td>3260.000000</td>\n",
       "      <td>3085.000000</td>\n",
       "      <td>3260.000000</td>\n",
       "      <td>3260.000000</td>\n",
       "      <td>3260.000000</td>\n",
       "      <td>3260.000000</td>\n",
       "      <td>3260.000000</td>\n",
       "      <td>1529.000000</td>\n",
       "    </tr>\n",
       "    <tr>\n",
       "      <th>mean</th>\n",
       "      <td>20181.384356</td>\n",
       "      <td>5.065874</td>\n",
       "      <td>112.040893</td>\n",
       "      <td>4163.485583</td>\n",
       "      <td>7.089141</td>\n",
       "      <td>32.655828</td>\n",
       "      <td>2.076994</td>\n",
       "      <td>12.555767</td>\n",
       "      <td>1.026994</td>\n",
       "      <td>6.097110</td>\n",
       "      <td>100.375409</td>\n",
       "    </tr>\n",
       "    <tr>\n",
       "      <th>std</th>\n",
       "      <td>24145.388368</td>\n",
       "      <td>3.256896</td>\n",
       "      <td>126.893532</td>\n",
       "      <td>1312.404904</td>\n",
       "      <td>1.682527</td>\n",
       "      <td>29.397695</td>\n",
       "      <td>0.990856</td>\n",
       "      <td>10.564795</td>\n",
       "      <td>0.162090</td>\n",
       "      <td>0.741478</td>\n",
       "      <td>24.920299</td>\n",
       "    </tr>\n",
       "    <tr>\n",
       "      <th>min</th>\n",
       "      <td>2500.000000</td>\n",
       "      <td>0.250000</td>\n",
       "      <td>0.310000</td>\n",
       "      <td>1100.000000</td>\n",
       "      <td>1.000000</td>\n",
       "      <td>0.300000</td>\n",
       "      <td>1.000000</td>\n",
       "      <td>0.300000</td>\n",
       "      <td>1.000000</td>\n",
       "      <td>2.400000</td>\n",
       "      <td>60.000000</td>\n",
       "    </tr>\n",
       "    <tr>\n",
       "      <th>25%</th>\n",
       "      <td>7490.000000</td>\n",
       "      <td>3.000000</td>\n",
       "      <td>32.000000</td>\n",
       "      <td>3007.500000</td>\n",
       "      <td>8.000000</td>\n",
       "      <td>12.000000</td>\n",
       "      <td>1.000000</td>\n",
       "      <td>5.000000</td>\n",
       "      <td>1.000000</td>\n",
       "      <td>5.500000</td>\n",
       "      <td>90.000000</td>\n",
       "    </tr>\n",
       "    <tr>\n",
       "      <th>50%</th>\n",
       "      <td>11999.000000</td>\n",
       "      <td>4.000000</td>\n",
       "      <td>64.000000</td>\n",
       "      <td>4500.000000</td>\n",
       "      <td>8.000000</td>\n",
       "      <td>16.000000</td>\n",
       "      <td>2.000000</td>\n",
       "      <td>8.000000</td>\n",
       "      <td>1.000000</td>\n",
       "      <td>6.455000</td>\n",
       "      <td>120.000000</td>\n",
       "    </tr>\n",
       "    <tr>\n",
       "      <th>75%</th>\n",
       "      <td>21999.000000</td>\n",
       "      <td>8.000000</td>\n",
       "      <td>128.000000</td>\n",
       "      <td>5000.000000</td>\n",
       "      <td>8.000000</td>\n",
       "      <td>50.000000</td>\n",
       "      <td>3.000000</td>\n",
       "      <td>16.000000</td>\n",
       "      <td>1.000000</td>\n",
       "      <td>6.670000</td>\n",
       "      <td>120.000000</td>\n",
       "    </tr>\n",
       "    <tr>\n",
       "      <th>max</th>\n",
       "      <td>200999.000000</td>\n",
       "      <td>24.000000</td>\n",
       "      <td>1024.000000</td>\n",
       "      <td>22000.000000</td>\n",
       "      <td>10.000000</td>\n",
       "      <td>200.000000</td>\n",
       "      <td>5.000000</td>\n",
       "      <td>60.000000</td>\n",
       "      <td>2.000000</td>\n",
       "      <td>8.030000</td>\n",
       "      <td>165.000000</td>\n",
       "    </tr>\n",
       "  </tbody>\n",
       "</table>\n",
       "</div>"
      ],
      "text/plain": [
       "               Price          RAM      storage   Battery_cap     num_core  \\\n",
       "count    3260.000000  3260.000000  3260.000000   3260.000000  3085.000000   \n",
       "mean    20181.384356     5.065874   112.040893   4163.485583     7.089141   \n",
       "std     24145.388368     3.256896   126.893532   1312.404904     1.682527   \n",
       "min      2500.000000     0.250000     0.310000   1100.000000     1.000000   \n",
       "25%      7490.000000     3.000000    32.000000   3007.500000     8.000000   \n",
       "50%     11999.000000     4.000000    64.000000   4500.000000     8.000000   \n",
       "75%     21999.000000     8.000000   128.000000   5000.000000     8.000000   \n",
       "max    200999.000000    24.000000  1024.000000  22000.000000    10.000000   \n",
       "\n",
       "       primery_rear_camera  Num_Rear_Cameras  primery_front_camera  \\\n",
       "count          3260.000000       3260.000000           3260.000000   \n",
       "mean             32.655828          2.076994             12.555767   \n",
       "std              29.397695          0.990856             10.564795   \n",
       "min               0.300000          1.000000              0.300000   \n",
       "25%              12.000000          1.000000              5.000000   \n",
       "50%              16.000000          2.000000              8.000000   \n",
       "75%              50.000000          3.000000             16.000000   \n",
       "max             200.000000          5.000000             60.000000   \n",
       "\n",
       "       num_front_camera  display_size(inch)  refresh_rate(hz)  \n",
       "count       3260.000000         3260.000000       1529.000000  \n",
       "mean           1.026994            6.097110        100.375409  \n",
       "std            0.162090            0.741478         24.920299  \n",
       "min            1.000000            2.400000         60.000000  \n",
       "25%            1.000000            5.500000         90.000000  \n",
       "50%            1.000000            6.455000        120.000000  \n",
       "75%            1.000000            6.670000        120.000000  \n",
       "max            2.000000            8.030000        165.000000  "
      ]
     },
     "execution_count": 9,
     "metadata": {},
     "output_type": "execute_result"
    }
   ],
   "source": [
    "df.describe()"
   ]
  },
  {
   "cell_type": "markdown",
   "id": "cfcd6027",
   "metadata": {},
   "source": [
    "* As we can see there are zero null values in the dataset we can proceed to further analysis"
   ]
  },
  {
   "cell_type": "code",
   "execution_count": 11,
   "id": "a3a05a01",
   "metadata": {},
   "outputs": [
    {
     "data": {
      "text/plain": [
       "0"
      ]
     },
     "execution_count": 11,
     "metadata": {},
     "output_type": "execute_result"
    }
   ],
   "source": [
    "df.duplicated().sum()"
   ]
  },
  {
   "cell_type": "code",
   "execution_count": 12,
   "id": "200feb1c",
   "metadata": {},
   "outputs": [
    {
     "data": {
      "text/plain": [
       "(3260, 20)"
      ]
     },
     "execution_count": 12,
     "metadata": {},
     "output_type": "execute_result"
    }
   ],
   "source": [
    "df.shape"
   ]
  },
  {
   "cell_type": "markdown",
   "id": "d8e9891f",
   "metadata": {},
   "source": [
    "#### Making a copy of original dataset"
   ]
  },
  {
   "cell_type": "code",
   "execution_count": 13,
   "id": "9f7715c0",
   "metadata": {},
   "outputs": [],
   "source": [
    "df1 = df.copy()"
   ]
  },
  {
   "cell_type": "code",
   "execution_count": 14,
   "id": "271da48d",
   "metadata": {},
   "outputs": [
    {
     "data": {
      "text/html": [
       "<div>\n",
       "<style scoped>\n",
       "    .dataframe tbody tr th:only-of-type {\n",
       "        vertical-align: middle;\n",
       "    }\n",
       "\n",
       "    .dataframe tbody tr th {\n",
       "        vertical-align: top;\n",
       "    }\n",
       "\n",
       "    .dataframe thead th {\n",
       "        text-align: right;\n",
       "    }\n",
       "</style>\n",
       "<table border=\"1\" class=\"dataframe\">\n",
       "  <thead>\n",
       "    <tr style=\"text-align: right;\">\n",
       "      <th></th>\n",
       "      <th>brand_name</th>\n",
       "      <th>Name</th>\n",
       "      <th>Price</th>\n",
       "      <th>RAM</th>\n",
       "      <th>OS</th>\n",
       "      <th>storage</th>\n",
       "      <th>Battery_cap</th>\n",
       "      <th>has_fast_charging</th>\n",
       "      <th>has_fingerprints</th>\n",
       "      <th>has_nfc</th>\n",
       "      <th>has_5g</th>\n",
       "      <th>processor_brand</th>\n",
       "      <th>num_core</th>\n",
       "      <th>primery_rear_camera</th>\n",
       "      <th>Num_Rear_Cameras</th>\n",
       "      <th>primery_front_camera</th>\n",
       "      <th>num_front_camera</th>\n",
       "      <th>display_size(inch)</th>\n",
       "      <th>refresh_rate(hz)</th>\n",
       "      <th>display_types</th>\n",
       "    </tr>\n",
       "  </thead>\n",
       "  <tbody>\n",
       "    <tr>\n",
       "      <th>0</th>\n",
       "      <td>vivo</td>\n",
       "      <td>vivo v50</td>\n",
       "      <td>34999</td>\n",
       "      <td>8.0</td>\n",
       "      <td>android</td>\n",
       "      <td>128.0</td>\n",
       "      <td>6000</td>\n",
       "      <td>Yes</td>\n",
       "      <td>Yes</td>\n",
       "      <td>No</td>\n",
       "      <td>Yes</td>\n",
       "      <td>snapdragon</td>\n",
       "      <td>8.0</td>\n",
       "      <td>50.0</td>\n",
       "      <td>2</td>\n",
       "      <td>50.0</td>\n",
       "      <td>1</td>\n",
       "      <td>6.77</td>\n",
       "      <td>120.0</td>\n",
       "      <td>amoled display</td>\n",
       "    </tr>\n",
       "    <tr>\n",
       "      <th>1</th>\n",
       "      <td>realme</td>\n",
       "      <td>realme p3 pro</td>\n",
       "      <td>21999</td>\n",
       "      <td>8.0</td>\n",
       "      <td>android</td>\n",
       "      <td>128.0</td>\n",
       "      <td>6000</td>\n",
       "      <td>Yes</td>\n",
       "      <td>Yes</td>\n",
       "      <td>No</td>\n",
       "      <td>Yes</td>\n",
       "      <td>snapdragon</td>\n",
       "      <td>8.0</td>\n",
       "      <td>50.0</td>\n",
       "      <td>2</td>\n",
       "      <td>16.0</td>\n",
       "      <td>1</td>\n",
       "      <td>6.83</td>\n",
       "      <td>120.0</td>\n",
       "      <td>amoled display</td>\n",
       "    </tr>\n",
       "    <tr>\n",
       "      <th>2</th>\n",
       "      <td>realme</td>\n",
       "      <td>realme 14 pro plus</td>\n",
       "      <td>27999</td>\n",
       "      <td>8.0</td>\n",
       "      <td>android</td>\n",
       "      <td>128.0</td>\n",
       "      <td>6000</td>\n",
       "      <td>Yes</td>\n",
       "      <td>Yes</td>\n",
       "      <td>No</td>\n",
       "      <td>Yes</td>\n",
       "      <td>snapdragon</td>\n",
       "      <td>8.0</td>\n",
       "      <td>50.0</td>\n",
       "      <td>3</td>\n",
       "      <td>32.0</td>\n",
       "      <td>1</td>\n",
       "      <td>6.83</td>\n",
       "      <td>120.0</td>\n",
       "      <td>oled display</td>\n",
       "    </tr>\n",
       "    <tr>\n",
       "      <th>3</th>\n",
       "      <td>samsung</td>\n",
       "      <td>samsung galaxy s25 ultra</td>\n",
       "      <td>129999</td>\n",
       "      <td>12.0</td>\n",
       "      <td>android</td>\n",
       "      <td>256.0</td>\n",
       "      <td>5000</td>\n",
       "      <td>Yes</td>\n",
       "      <td>Yes</td>\n",
       "      <td>Yes</td>\n",
       "      <td>Yes</td>\n",
       "      <td>snapdragon</td>\n",
       "      <td>8.0</td>\n",
       "      <td>200.0</td>\n",
       "      <td>4</td>\n",
       "      <td>12.0</td>\n",
       "      <td>1</td>\n",
       "      <td>6.90</td>\n",
       "      <td>120.0</td>\n",
       "      <td>amoled display</td>\n",
       "    </tr>\n",
       "    <tr>\n",
       "      <th>4</th>\n",
       "      <td>vivo</td>\n",
       "      <td>vivo t3 pro</td>\n",
       "      <td>22999</td>\n",
       "      <td>8.0</td>\n",
       "      <td>android</td>\n",
       "      <td>128.0</td>\n",
       "      <td>5500</td>\n",
       "      <td>Yes</td>\n",
       "      <td>Yes</td>\n",
       "      <td>No</td>\n",
       "      <td>Yes</td>\n",
       "      <td>snapdragon</td>\n",
       "      <td>8.0</td>\n",
       "      <td>50.0</td>\n",
       "      <td>2</td>\n",
       "      <td>16.0</td>\n",
       "      <td>1</td>\n",
       "      <td>6.77</td>\n",
       "      <td>120.0</td>\n",
       "      <td>amoled display</td>\n",
       "    </tr>\n",
       "  </tbody>\n",
       "</table>\n",
       "</div>"
      ],
      "text/plain": [
       "  brand_name                      Name   Price   RAM       OS  storage  \\\n",
       "0       vivo                  vivo v50   34999   8.0  android    128.0   \n",
       "1     realme             realme p3 pro   21999   8.0  android    128.0   \n",
       "2     realme        realme 14 pro plus   27999   8.0  android    128.0   \n",
       "3    samsung  samsung galaxy s25 ultra  129999  12.0  android    256.0   \n",
       "4       vivo               vivo t3 pro   22999   8.0  android    128.0   \n",
       "\n",
       "   Battery_cap has_fast_charging has_fingerprints has_nfc has_5g  \\\n",
       "0         6000               Yes              Yes      No    Yes   \n",
       "1         6000               Yes              Yes      No    Yes   \n",
       "2         6000               Yes              Yes      No    Yes   \n",
       "3         5000               Yes              Yes     Yes    Yes   \n",
       "4         5500               Yes              Yes      No    Yes   \n",
       "\n",
       "  processor_brand  num_core  primery_rear_camera  Num_Rear_Cameras  \\\n",
       "0      snapdragon       8.0                 50.0                 2   \n",
       "1      snapdragon       8.0                 50.0                 2   \n",
       "2      snapdragon       8.0                 50.0                 3   \n",
       "3      snapdragon       8.0                200.0                 4   \n",
       "4      snapdragon       8.0                 50.0                 2   \n",
       "\n",
       "   primery_front_camera  num_front_camera  display_size(inch)  \\\n",
       "0                  50.0                 1                6.77   \n",
       "1                  16.0                 1                6.83   \n",
       "2                  32.0                 1                6.83   \n",
       "3                  12.0                 1                6.90   \n",
       "4                  16.0                 1                6.77   \n",
       "\n",
       "   refresh_rate(hz)   display_types  \n",
       "0             120.0  amoled display  \n",
       "1             120.0  amoled display  \n",
       "2             120.0    oled display  \n",
       "3             120.0  amoled display  \n",
       "4             120.0  amoled display  "
      ]
     },
     "execution_count": 14,
     "metadata": {},
     "output_type": "execute_result"
    }
   ],
   "source": [
    "df1.head()"
   ]
  },
  {
   "cell_type": "code",
   "execution_count": 15,
   "id": "9d10f61f",
   "metadata": {},
   "outputs": [
    {
     "data": {
      "text/plain": [
       "0"
      ]
     },
     "execution_count": 15,
     "metadata": {},
     "output_type": "execute_result"
    }
   ],
   "source": [
    "df1.duplicated().sum()"
   ]
  },
  {
   "cell_type": "code",
   "execution_count": 16,
   "id": "2b315ab4",
   "metadata": {},
   "outputs": [
    {
     "name": "stdout",
     "output_type": "stream",
     "text": [
      "<class 'pandas.core.frame.DataFrame'>\n",
      "RangeIndex: 3260 entries, 0 to 3259\n",
      "Data columns (total 20 columns):\n",
      " #   Column                Non-Null Count  Dtype  \n",
      "---  ------                --------------  -----  \n",
      " 0   brand_name            3260 non-null   object \n",
      " 1   Name                  3260 non-null   object \n",
      " 2   Price                 3260 non-null   int64  \n",
      " 3   RAM                   3260 non-null   float64\n",
      " 4   OS                    3260 non-null   object \n",
      " 5   storage               3260 non-null   float64\n",
      " 6   Battery_cap           3260 non-null   int64  \n",
      " 7   has_fast_charging     3260 non-null   object \n",
      " 8   has_fingerprints      2534 non-null   object \n",
      " 9   has_nfc               2534 non-null   object \n",
      " 10  has_5g                2534 non-null   object \n",
      " 11  processor_brand       3260 non-null   object \n",
      " 12  num_core              3085 non-null   float64\n",
      " 13  primery_rear_camera   3260 non-null   float64\n",
      " 14  Num_Rear_Cameras      3260 non-null   int64  \n",
      " 15  primery_front_camera  3260 non-null   float64\n",
      " 16  num_front_camera      3260 non-null   int64  \n",
      " 17  display_size(inch)    3260 non-null   float64\n",
      " 18  refresh_rate(hz)      1529 non-null   float64\n",
      " 19  display_types         3260 non-null   object \n",
      "dtypes: float64(7), int64(4), object(9)\n",
      "memory usage: 509.5+ KB\n"
     ]
    }
   ],
   "source": [
    "df1.info()"
   ]
  },
  {
   "cell_type": "code",
   "execution_count": 17,
   "id": "b7af578e",
   "metadata": {},
   "outputs": [
    {
     "data": {
      "text/plain": [
       "brand_name                 0\n",
       "Name                       0\n",
       "Price                      0\n",
       "RAM                        0\n",
       "OS                         0\n",
       "storage                    0\n",
       "Battery_cap                0\n",
       "has_fast_charging          0\n",
       "has_fingerprints         726\n",
       "has_nfc                  726\n",
       "has_5g                   726\n",
       "processor_brand            0\n",
       "num_core                 175\n",
       "primery_rear_camera        0\n",
       "Num_Rear_Cameras           0\n",
       "primery_front_camera       0\n",
       "num_front_camera           0\n",
       "display_size(inch)         0\n",
       "refresh_rate(hz)        1731\n",
       "display_types              0\n",
       "dtype: int64"
      ]
     },
     "execution_count": 17,
     "metadata": {},
     "output_type": "execute_result"
    }
   ],
   "source": [
    "df1.isnull().sum()"
   ]
  },
  {
   "cell_type": "code",
   "execution_count": 18,
   "id": "31757273",
   "metadata": {},
   "outputs": [
    {
     "name": "stdout",
     "output_type": "stream",
     "text": [
      "Index(['brand_name', 'Name', 'Price', 'RAM', 'OS', 'storage', 'Battery_cap',\n",
      "       'has_fast_charging', 'has_fingerprints', 'has_nfc', 'has_5g',\n",
      "       'processor_brand', 'num_core', 'primery_rear_camera',\n",
      "       'Num_Rear_Cameras', 'primery_front_camera', 'num_front_camera',\n",
      "       'display_size(inch)', 'refresh_rate(hz)', 'display_types'],\n",
      "      dtype='object')\n"
     ]
    }
   ],
   "source": [
    "print(df1.columns)"
   ]
  },
  {
   "cell_type": "markdown",
   "id": "aae38d03",
   "metadata": {},
   "source": [
    "\n",
    "#### Renaming the columns"
   ]
  },
  {
   "cell_type": "code",
   "execution_count": 19,
   "id": "de373c49",
   "metadata": {},
   "outputs": [],
   "source": [
    "df1.rename(columns={'primery_rear_camera': 'primary_rear_camera','primery_front_camera': 'primary_front_camera'}, inplace=True)"
   ]
  },
  {
   "cell_type": "markdown",
   "id": "ad4c6155",
   "metadata": {},
   "source": [
    "\n",
    "#### finding the missing percentage of data in each columns"
   ]
  },
  {
   "cell_type": "code",
   "execution_count": 20,
   "id": "3f891422",
   "metadata": {},
   "outputs": [
    {
     "data": {
      "text/plain": [
       "brand_name               0.000000\n",
       "Name                     0.000000\n",
       "Price                    0.000000\n",
       "RAM                      0.000000\n",
       "OS                       0.000000\n",
       "storage                  0.000000\n",
       "Battery_cap              0.000000\n",
       "has_fast_charging        0.000000\n",
       "has_fingerprints        22.269939\n",
       "has_nfc                 22.269939\n",
       "has_5g                  22.269939\n",
       "processor_brand          0.000000\n",
       "num_core                 5.368098\n",
       "primary_rear_camera      0.000000\n",
       "Num_Rear_Cameras         0.000000\n",
       "primary_front_camera     0.000000\n",
       "num_front_camera         0.000000\n",
       "display_size(inch)       0.000000\n",
       "refresh_rate(hz)        53.098160\n",
       "display_types            0.000000\n",
       "dtype: float64"
      ]
     },
     "execution_count": 20,
     "metadata": {},
     "output_type": "execute_result"
    }
   ],
   "source": [
    "# Calculate missing percentage\n",
    "missing_percentage = (df1.isnull().sum() / len(df1)) * 100\n",
    "missing_percentage"
   ]
  },
  {
   "cell_type": "markdown",
   "id": "41293ad7",
   "metadata": {},
   "source": [
    "\n",
    "##### I’ll add a `price_range` column to categorize the `Price` of smartphones into three simple groups: \"Budget,\" \"Mid-range,\" and \"Premium.\" This makes it easier to analyze and visualize trends in the dataset, such as understanding which price segment has the most smartphones."
   ]
  },
  {
   "cell_type": "code",
   "execution_count": 21,
   "id": "d14cc5fd",
   "metadata": {},
   "outputs": [],
   "source": [
    "bins = [0, 15000, 30000, float('inf')] \n",
    "labels = ['Budget', 'Mid-range', 'Premium']\n",
    "\n",
    "# Add the price_range column\n",
    "df1['price_range'] = pd.cut(df1['Price'], bins=bins, labels=labels, include_lowest=True)"
   ]
  },
  {
   "cell_type": "code",
   "execution_count": 22,
   "id": "f09961d7",
   "metadata": {},
   "outputs": [
    {
     "data": {
      "text/html": [
       "<div>\n",
       "<style scoped>\n",
       "    .dataframe tbody tr th:only-of-type {\n",
       "        vertical-align: middle;\n",
       "    }\n",
       "\n",
       "    .dataframe tbody tr th {\n",
       "        vertical-align: top;\n",
       "    }\n",
       "\n",
       "    .dataframe thead th {\n",
       "        text-align: right;\n",
       "    }\n",
       "</style>\n",
       "<table border=\"1\" class=\"dataframe\">\n",
       "  <thead>\n",
       "    <tr style=\"text-align: right;\">\n",
       "      <th></th>\n",
       "      <th>Price</th>\n",
       "      <th>price_range</th>\n",
       "    </tr>\n",
       "  </thead>\n",
       "  <tbody>\n",
       "    <tr>\n",
       "      <th>0</th>\n",
       "      <td>34999</td>\n",
       "      <td>Premium</td>\n",
       "    </tr>\n",
       "    <tr>\n",
       "      <th>1</th>\n",
       "      <td>21999</td>\n",
       "      <td>Mid-range</td>\n",
       "    </tr>\n",
       "    <tr>\n",
       "      <th>2</th>\n",
       "      <td>27999</td>\n",
       "      <td>Mid-range</td>\n",
       "    </tr>\n",
       "    <tr>\n",
       "      <th>3</th>\n",
       "      <td>129999</td>\n",
       "      <td>Premium</td>\n",
       "    </tr>\n",
       "    <tr>\n",
       "      <th>4</th>\n",
       "      <td>22999</td>\n",
       "      <td>Mid-range</td>\n",
       "    </tr>\n",
       "  </tbody>\n",
       "</table>\n",
       "</div>"
      ],
      "text/plain": [
       "    Price price_range\n",
       "0   34999     Premium\n",
       "1   21999   Mid-range\n",
       "2   27999   Mid-range\n",
       "3  129999     Premium\n",
       "4   22999   Mid-range"
      ]
     },
     "execution_count": 22,
     "metadata": {},
     "output_type": "execute_result"
    }
   ],
   "source": [
    "df1[['Price', 'price_range']].head()"
   ]
  },
  {
   "cell_type": "code",
   "execution_count": 23,
   "id": "92f5748d",
   "metadata": {},
   "outputs": [
    {
     "name": "stdout",
     "output_type": "stream",
     "text": [
      "Price Range Distribution:\n",
      " Budget       1984\n",
      "Mid-range     769\n",
      "Premium       507\n",
      "Name: price_range, dtype: int64\n"
     ]
    }
   ],
   "source": [
    "print(\"Price Range Distribution:\\n\", df1['price_range'].value_counts())"
   ]
  },
  {
   "cell_type": "code",
   "execution_count": 24,
   "id": "620d18ed",
   "metadata": {},
   "outputs": [
    {
     "data": {
      "text/html": [
       "<div>\n",
       "<style scoped>\n",
       "    .dataframe tbody tr th:only-of-type {\n",
       "        vertical-align: middle;\n",
       "    }\n",
       "\n",
       "    .dataframe tbody tr th {\n",
       "        vertical-align: top;\n",
       "    }\n",
       "\n",
       "    .dataframe thead th {\n",
       "        text-align: right;\n",
       "    }\n",
       "</style>\n",
       "<table border=\"1\" class=\"dataframe\">\n",
       "  <thead>\n",
       "    <tr style=\"text-align: right;\">\n",
       "      <th></th>\n",
       "      <th>brand_name</th>\n",
       "      <th>Name</th>\n",
       "      <th>Price</th>\n",
       "      <th>RAM</th>\n",
       "      <th>OS</th>\n",
       "      <th>storage</th>\n",
       "      <th>Battery_cap</th>\n",
       "      <th>has_fast_charging</th>\n",
       "      <th>has_fingerprints</th>\n",
       "      <th>has_nfc</th>\n",
       "      <th>...</th>\n",
       "      <th>processor_brand</th>\n",
       "      <th>num_core</th>\n",
       "      <th>primary_rear_camera</th>\n",
       "      <th>Num_Rear_Cameras</th>\n",
       "      <th>primary_front_camera</th>\n",
       "      <th>num_front_camera</th>\n",
       "      <th>display_size(inch)</th>\n",
       "      <th>refresh_rate(hz)</th>\n",
       "      <th>display_types</th>\n",
       "      <th>price_range</th>\n",
       "    </tr>\n",
       "  </thead>\n",
       "  <tbody>\n",
       "    <tr>\n",
       "      <th>0</th>\n",
       "      <td>vivo</td>\n",
       "      <td>vivo v50</td>\n",
       "      <td>34999</td>\n",
       "      <td>8.0</td>\n",
       "      <td>android</td>\n",
       "      <td>128.0</td>\n",
       "      <td>6000</td>\n",
       "      <td>Yes</td>\n",
       "      <td>Yes</td>\n",
       "      <td>No</td>\n",
       "      <td>...</td>\n",
       "      <td>snapdragon</td>\n",
       "      <td>8.0</td>\n",
       "      <td>50.0</td>\n",
       "      <td>2</td>\n",
       "      <td>50.0</td>\n",
       "      <td>1</td>\n",
       "      <td>6.77</td>\n",
       "      <td>120.0</td>\n",
       "      <td>amoled display</td>\n",
       "      <td>Premium</td>\n",
       "    </tr>\n",
       "    <tr>\n",
       "      <th>1</th>\n",
       "      <td>realme</td>\n",
       "      <td>realme p3 pro</td>\n",
       "      <td>21999</td>\n",
       "      <td>8.0</td>\n",
       "      <td>android</td>\n",
       "      <td>128.0</td>\n",
       "      <td>6000</td>\n",
       "      <td>Yes</td>\n",
       "      <td>Yes</td>\n",
       "      <td>No</td>\n",
       "      <td>...</td>\n",
       "      <td>snapdragon</td>\n",
       "      <td>8.0</td>\n",
       "      <td>50.0</td>\n",
       "      <td>2</td>\n",
       "      <td>16.0</td>\n",
       "      <td>1</td>\n",
       "      <td>6.83</td>\n",
       "      <td>120.0</td>\n",
       "      <td>amoled display</td>\n",
       "      <td>Mid-range</td>\n",
       "    </tr>\n",
       "    <tr>\n",
       "      <th>2</th>\n",
       "      <td>realme</td>\n",
       "      <td>realme 14 pro plus</td>\n",
       "      <td>27999</td>\n",
       "      <td>8.0</td>\n",
       "      <td>android</td>\n",
       "      <td>128.0</td>\n",
       "      <td>6000</td>\n",
       "      <td>Yes</td>\n",
       "      <td>Yes</td>\n",
       "      <td>No</td>\n",
       "      <td>...</td>\n",
       "      <td>snapdragon</td>\n",
       "      <td>8.0</td>\n",
       "      <td>50.0</td>\n",
       "      <td>3</td>\n",
       "      <td>32.0</td>\n",
       "      <td>1</td>\n",
       "      <td>6.83</td>\n",
       "      <td>120.0</td>\n",
       "      <td>oled display</td>\n",
       "      <td>Mid-range</td>\n",
       "    </tr>\n",
       "    <tr>\n",
       "      <th>3</th>\n",
       "      <td>samsung</td>\n",
       "      <td>samsung galaxy s25 ultra</td>\n",
       "      <td>129999</td>\n",
       "      <td>12.0</td>\n",
       "      <td>android</td>\n",
       "      <td>256.0</td>\n",
       "      <td>5000</td>\n",
       "      <td>Yes</td>\n",
       "      <td>Yes</td>\n",
       "      <td>Yes</td>\n",
       "      <td>...</td>\n",
       "      <td>snapdragon</td>\n",
       "      <td>8.0</td>\n",
       "      <td>200.0</td>\n",
       "      <td>4</td>\n",
       "      <td>12.0</td>\n",
       "      <td>1</td>\n",
       "      <td>6.90</td>\n",
       "      <td>120.0</td>\n",
       "      <td>amoled display</td>\n",
       "      <td>Premium</td>\n",
       "    </tr>\n",
       "    <tr>\n",
       "      <th>4</th>\n",
       "      <td>vivo</td>\n",
       "      <td>vivo t3 pro</td>\n",
       "      <td>22999</td>\n",
       "      <td>8.0</td>\n",
       "      <td>android</td>\n",
       "      <td>128.0</td>\n",
       "      <td>5500</td>\n",
       "      <td>Yes</td>\n",
       "      <td>Yes</td>\n",
       "      <td>No</td>\n",
       "      <td>...</td>\n",
       "      <td>snapdragon</td>\n",
       "      <td>8.0</td>\n",
       "      <td>50.0</td>\n",
       "      <td>2</td>\n",
       "      <td>16.0</td>\n",
       "      <td>1</td>\n",
       "      <td>6.77</td>\n",
       "      <td>120.0</td>\n",
       "      <td>amoled display</td>\n",
       "      <td>Mid-range</td>\n",
       "    </tr>\n",
       "  </tbody>\n",
       "</table>\n",
       "<p>5 rows × 21 columns</p>\n",
       "</div>"
      ],
      "text/plain": [
       "  brand_name                      Name   Price   RAM       OS  storage  \\\n",
       "0       vivo                  vivo v50   34999   8.0  android    128.0   \n",
       "1     realme             realme p3 pro   21999   8.0  android    128.0   \n",
       "2     realme        realme 14 pro plus   27999   8.0  android    128.0   \n",
       "3    samsung  samsung galaxy s25 ultra  129999  12.0  android    256.0   \n",
       "4       vivo               vivo t3 pro   22999   8.0  android    128.0   \n",
       "\n",
       "   Battery_cap has_fast_charging has_fingerprints has_nfc  ...  \\\n",
       "0         6000               Yes              Yes      No  ...   \n",
       "1         6000               Yes              Yes      No  ...   \n",
       "2         6000               Yes              Yes      No  ...   \n",
       "3         5000               Yes              Yes     Yes  ...   \n",
       "4         5500               Yes              Yes      No  ...   \n",
       "\n",
       "  processor_brand num_core  primary_rear_camera  Num_Rear_Cameras  \\\n",
       "0      snapdragon      8.0                 50.0                 2   \n",
       "1      snapdragon      8.0                 50.0                 2   \n",
       "2      snapdragon      8.0                 50.0                 3   \n",
       "3      snapdragon      8.0                200.0                 4   \n",
       "4      snapdragon      8.0                 50.0                 2   \n",
       "\n",
       "   primary_front_camera  num_front_camera  display_size(inch)  \\\n",
       "0                  50.0                 1                6.77   \n",
       "1                  16.0                 1                6.83   \n",
       "2                  32.0                 1                6.83   \n",
       "3                  12.0                 1                6.90   \n",
       "4                  16.0                 1                6.77   \n",
       "\n",
       "   refresh_rate(hz)   display_types price_range  \n",
       "0             120.0  amoled display     Premium  \n",
       "1             120.0  amoled display   Mid-range  \n",
       "2             120.0    oled display   Mid-range  \n",
       "3             120.0  amoled display     Premium  \n",
       "4             120.0  amoled display   Mid-range  \n",
       "\n",
       "[5 rows x 21 columns]"
      ]
     },
     "execution_count": 24,
     "metadata": {},
     "output_type": "execute_result"
    }
   ],
   "source": [
    "df1.head()"
   ]
  },
  {
   "cell_type": "markdown",
   "id": "3155b4d9",
   "metadata": {},
   "source": [
    "\n",
    "##### Imputing the Missing Values"
   ]
  },
  {
   "cell_type": "markdown",
   "id": "deb64241",
   "metadata": {},
   "source": [
    "\n",
    "##### Imputing Categorical Values(Columns)"
   ]
  },
  {
   "cell_type": "code",
   "execution_count": 25,
   "id": "6ebf7f18",
   "metadata": {},
   "outputs": [],
   "source": [
    "df1['has_fingerprints'].fillna(df1['has_fingerprints'].mode()[0], inplace=True)\n",
    "df1['has_nfc'].fillna(df1['has_nfc'].mode()[0], inplace=True)\n",
    "df1['has_5g'].fillna(df1['has_5g'].mode()[0], inplace=True)"
   ]
  },
  {
   "cell_type": "markdown",
   "id": "294760fc",
   "metadata": {},
   "source": [
    "##### Imputing Numerical Values(Columns)"
   ]
  },
  {
   "cell_type": "code",
   "execution_count": 26,
   "id": "c7d8fc95",
   "metadata": {},
   "outputs": [],
   "source": [
    "df1['num_core'].fillna(df1['num_core'].median(),inplace =True)\n",
    "df1['refresh_rate(hz)'].fillna(df1['refresh_rate(hz)'].median(), inplace=True)"
   ]
  },
  {
   "cell_type": "code",
   "execution_count": 27,
   "id": "bb499d58",
   "metadata": {},
   "outputs": [
    {
     "data": {
      "text/plain": [
       "brand_name              0\n",
       "Name                    0\n",
       "Price                   0\n",
       "RAM                     0\n",
       "OS                      0\n",
       "storage                 0\n",
       "Battery_cap             0\n",
       "has_fast_charging       0\n",
       "has_fingerprints        0\n",
       "has_nfc                 0\n",
       "has_5g                  0\n",
       "processor_brand         0\n",
       "num_core                0\n",
       "primary_rear_camera     0\n",
       "Num_Rear_Cameras        0\n",
       "primary_front_camera    0\n",
       "num_front_camera        0\n",
       "display_size(inch)      0\n",
       "refresh_rate(hz)        0\n",
       "display_types           0\n",
       "price_range             0\n",
       "dtype: int64"
      ]
     },
     "execution_count": 27,
     "metadata": {},
     "output_type": "execute_result"
    }
   ],
   "source": [
    "df1.isnull().sum()"
   ]
  },
  {
   "cell_type": "code",
   "execution_count": 28,
   "id": "5e1e6546",
   "metadata": {},
   "outputs": [
    {
     "name": "stdout",
     "output_type": "stream",
     "text": [
      "['vivo' 'realme' 'samsung' 'motorola' 'moto' 'oneplus' 'poco' 'iqoo'\n",
      " 'xiaomi' 'Other' 'oppo' 'apple' 'honor' 'infinix' 'google' 'lava' 'tecno'\n",
      " 'itel' 'nokia' 'asus' 'micromax' 'lg' 'sony' 'ikall' 'lyf' 'gionee'\n",
      " 'intex' 'lenovo' 'htc' 'coolpad' 'panasonic' 'karbonn' 'xolo']\n",
      "['android' 'ios' 'other']\n",
      "['snapdragon' 'mediatek' 'samsung' 'apple' 'google' 'unisoc' 'hisilicon'\n",
      " 'tru-mediatek' 'spreadtrum' 'quad' 'st-ericsson' 'broadcom' 'nvidia'\n",
      " 'huawei' 'intel']\n",
      "['amoled display' 'oled display' 'lcd display' 'tft display'\n",
      " 'other display']\n"
     ]
    }
   ],
   "source": [
    "print(df1['brand_name'].unique())  \n",
    "print(df1['OS'].unique())  \n",
    "print(df1['processor_brand'].unique())  \n",
    "print(df1['display_types'].unique())"
   ]
  },
  {
   "cell_type": "markdown",
   "id": "6ff20499",
   "metadata": {},
   "source": [
    "\n",
    "##### ✅From the above output , we can see that the `moto` column and `motorola` is different, Since it is same company we'll replace moto to motorola.\n"
   ]
  },
  {
   "cell_type": "markdown",
   "id": "d0f2686d",
   "metadata": {},
   "source": [
    "\n",
    "##### ✅ Also, `Other` and `other` both are case sensitive , we'll convert it to lower case for uniformity."
   ]
  },
  {
   "cell_type": "code",
   "execution_count": 29,
   "id": "29f10be9",
   "metadata": {},
   "outputs": [],
   "source": [
    "df1['brand_name'] = df1['brand_name'].replace({'moto': 'motorola'})\n",
    "df1['brand_name'] = df1['brand_name'].replace({'Other': 'other'})"
   ]
  },
  {
   "cell_type": "markdown",
   "id": "f76ed3af",
   "metadata": {},
   "source": [
    "\n",
    "###### ✅\"tru-mediatek\" will be \"mediatek\"\n",
    "###### ✅\"quad\" is unclear so we can a placeholder for unknown\n",
    "###### ✅\"spreadtrum\" and \"st-ericsson\" might need checking\n",
    "###### ✅\"huawei\" should belong to \"hisilicon\""
   ]
  },
  {
   "cell_type": "code",
   "execution_count": 30,
   "id": "20af8870",
   "metadata": {},
   "outputs": [],
   "source": [
    "df1['processor_brand'] = df1['processor_brand'].replace({'tru-mediatek': 'mediatek',\n",
    "                                                        'huawei': 'hisilicon',      \n",
    "                                                        'quad': 'other',\n",
    "                                                         'spreadtrum': 'unisoc', \n",
    "                                                         'st-ericsson': 'other'})"
   ]
  },
  {
   "cell_type": "code",
   "execution_count": 31,
   "id": "9f9cb5b5",
   "metadata": {},
   "outputs": [
    {
     "name": "stdout",
     "output_type": "stream",
     "text": [
      "['snapdragon' 'mediatek' 'samsung' 'apple' 'google' 'unisoc' 'hisilicon'\n",
      " 'other' 'broadcom' 'nvidia' 'intel']\n"
     ]
    }
   ],
   "source": [
    "print(df1['processor_brand'].unique())"
   ]
  },
  {
   "cell_type": "markdown",
   "id": "d0bad4c2",
   "metadata": {},
   "source": [
    "\n",
    "##### Checking the Skweness for the data distribution"
   ]
  },
  {
   "cell_type": "code",
   "execution_count": 32,
   "id": "02c96ed8",
   "metadata": {},
   "outputs": [],
   "source": [
    "from scipy.stats import skew"
   ]
  },
  {
   "cell_type": "code",
   "execution_count": 33,
   "id": "f49f6865",
   "metadata": {},
   "outputs": [
    {
     "name": "stdout",
     "output_type": "stream",
     "text": [
      "Price                   3.344206\n",
      "RAM                     1.002091\n",
      "storage                 3.173213\n",
      "Battery_cap             1.243023\n",
      "num_core               -1.454059\n",
      "primary_rear_camera     2.028487\n",
      "Num_Rear_Cameras        0.385007\n",
      "primary_front_camera    1.739487\n",
      "num_front_camera        5.837225\n",
      "display_size(inch)     -1.097738\n",
      "refresh_rate(hz)       -1.613383\n",
      "dtype: float64\n"
     ]
    }
   ],
   "source": [
    "numeric_cols = df1.select_dtypes(include=['number'])\n",
    "skewness_values = numeric_cols.apply(skew)\n",
    "print(skewness_values)"
   ]
  },
  {
   "cell_type": "code",
   "execution_count": 34,
   "id": "df80c3b5",
   "metadata": {},
   "outputs": [],
   "source": [
    "# selecting numeric columns\n",
    "numeric_cols = ['Price', 'RAM', 'storage', 'Battery_cap', 'num_core',\n",
    "                'primary_rear_camera', 'Num_Rear_Cameras', 'primary_front_camera',\n",
    "                'num_front_camera', 'display_size(inch)', 'refresh_rate(hz)']"
   ]
  },
  {
   "cell_type": "code",
   "execution_count": 35,
   "id": "dfa3d17f",
   "metadata": {},
   "outputs": [
    {
     "data": {
      "image/png": "[encoded data removed]",
      "text/plain": [
       "<Figure size 1500x1000 with 11 Axes>"
      ]
     },
     "metadata": {},
     "output_type": "display_data"
    }
   ],
   "source": [
    "#boxplot\n",
    "plt.figure(figsize=(15, 10))\n",
    "for i, col in enumerate(numeric_cols, 1):\n",
    "    plt.subplot(4, 3, i)\n",
    "    sns.boxplot(y=df1[col])\n",
    "    plt.title(f'Boxplot of {col}')\n",
    "plt.tight_layout()\n",
    "plt.show()"
   ]
  },
  {
   "cell_type": "markdown",
   "id": "cc4f59e6",
   "metadata": {},
   "source": [
    "\n",
    "##### Plotting for which Brand dominates the market"
   ]
  },
  {
   "cell_type": "code",
   "execution_count": 36,
   "id": "7b6422dd",
   "metadata": {},
   "outputs": [
    {
     "data": {
      "image/png": "[encoded data removed]",
      "text/plain": [
       "<Figure size 1000x400 with 1 Axes>"
      ]
     },
     "metadata": {},
     "output_type": "display_data"
    }
   ],
   "source": [
    "plt.figure(figsize=(10, 4))\n",
    "sns.countplot(data=df1, x='brand_name', color='blue')\n",
    "plt.title(\"Number of Smartphones by Brand\")\n",
    "plt.xlabel(\"Brand\")\n",
    "plt.ylabel(\"Count\")\n",
    "plt.xticks(rotation=50)\n",
    "plt.show()"
   ]
  },
  {
   "cell_type": "code",
   "execution_count": 37,
   "id": "83d4e75f",
   "metadata": {},
   "outputs": [
    {
     "name": "stdout",
     "output_type": "stream",
     "text": [
      "<class 'pandas.core.frame.DataFrame'>\n",
      "RangeIndex: 3260 entries, 0 to 3259\n",
      "Data columns (total 21 columns):\n",
      " #   Column                Non-Null Count  Dtype   \n",
      "---  ------                --------------  -----   \n",
      " 0   brand_name            3260 non-null   object  \n",
      " 1   Name                  3260 non-null   object  \n",
      " 2   Price                 3260 non-null   int64   \n",
      " 3   RAM                   3260 non-null   float64 \n",
      " 4   OS                    3260 non-null   object  \n",
      " 5   storage               3260 non-null   float64 \n",
      " 6   Battery_cap           3260 non-null   int64   \n",
      " 7   has_fast_charging     3260 non-null   object  \n",
      " 8   has_fingerprints      3260 non-null   object  \n",
      " 9   has_nfc               3260 non-null   object  \n",
      " 10  has_5g                3260 non-null   object  \n",
      " 11  processor_brand       3260 non-null   object  \n",
      " 12  num_core              3260 non-null   float64 \n",
      " 13  primary_rear_camera   3260 non-null   float64 \n",
      " 14  Num_Rear_Cameras      3260 non-null   int64   \n",
      " 15  primary_front_camera  3260 non-null   float64 \n",
      " 16  num_front_camera      3260 non-null   int64   \n",
      " 17  display_size(inch)    3260 non-null   float64 \n",
      " 18  refresh_rate(hz)      3260 non-null   float64 \n",
      " 19  display_types         3260 non-null   object  \n",
      " 20  price_range           3260 non-null   category\n",
      "dtypes: category(1), float64(7), int64(4), object(9)\n",
      "memory usage: 512.8+ KB\n"
     ]
    }
   ],
   "source": [
    "df1.info()"
   ]
  },
  {
   "cell_type": "code",
   "execution_count": null,
   "id": "d2b23047",
   "metadata": {},
   "outputs": [],
   "source": [
    "[markdown]\n",
    "# Correlation analysis for numerical features"
   ]
  },
  {
   "cell_type": "code",
   "execution_count": null,
   "id": "40e79d7d",
   "metadata": {},
   "outputs": [],
   "source": [
    "plt.figure(figsize=(10, 6))\n",
    "sns.heatmap(df1[['Price', 'RAM', 'storage', 'Battery_cap', 'num_core',\n",
    "                'primary_rear_camera', 'Num_Rear_Cameras', 'primary_front_camera',\n",
    "                'num_front_camera', 'display_size(inch)', 'refresh_rate(hz)']].corr(), annot=True, cmap='coolwarm')\n",
    "plt.title(\"Correlation Heatmap of Numerical Features\")\n",
    "plt.show()"
   ]
  },
  {
   "cell_type": "code",
   "execution_count": null,
   "id": "ea980f54",
   "metadata": {},
   "outputs": [],
   "source": [
    "[markdown]\n",
    "# Plotting the histogram for numerical columns"
   ]
  },
  {
   "cell_type": "code",
   "execution_count": null,
   "id": "37dc63bb",
   "metadata": {},
   "outputs": [],
   "source": [
    "numeric_cols = ['Price', 'RAM', 'storage', 'Battery_cap', 'num_core',\n",
    "                'primary_rear_camera', 'Num_Rear_Cameras', 'primary_front_camera',\n",
    "                'num_front_camera', 'display_size(inch)', 'refresh_rate(hz)']"
   ]
  },
  {
   "cell_type": "code",
   "execution_count": null,
   "id": "9988159a",
   "metadata": {},
   "outputs": [],
   "source": [
    "#Histogram\n",
    "plt.figure(figsize=(15, 10))\n",
    "for i, col in enumerate(numeric_cols, 1):\n",
    "    plt.subplot(4, 3, i)\n",
    "    sns.histplot(df1[col], kde=True, bins=30)\n",
    "    plt.title(f'Histogram of {col}')\n",
    "plt.tight_layout()\n",
    "plt.show()"
   ]
  },
  {
   "cell_type": "code",
   "execution_count": null,
   "id": "ca262e63",
   "metadata": {},
   "outputs": [],
   "source": [
    "[markdown]\n",
    "# Now we'll apply transformation, remove outliers and other"
   ]
  },
  {
   "cell_type": "code",
   "execution_count": null,
   "id": "58db5c43",
   "metadata": {},
   "outputs": [],
   "source": [
    "df1['Price_Log'] = np.log1p(df1['Price'])"
   ]
  },
  {
   "cell_type": "code",
   "execution_count": null,
   "id": "feb7a2fe",
   "metadata": {},
   "outputs": [],
   "source": [
    "from scipy.stats import boxcox\n",
    "\n",
    "df1['Price_BoxCox'], lambda_val = boxcox(df1['Price'])\n",
    "print(f\"Box-Cox Lambda Value: {lambda_val}\")"
   ]
  },
  {
   "cell_type": "markdown",
   "id": "ab538022",
   "metadata": {},
   "source": [
    "\n",
    "#### ✅Using the Transformation in which we are using the box_cox transformation from the below histogram plot we can see that box_cox is showing normal distribution, when comparing with the log transformation"
   ]
  },
  {
   "cell_type": "code",
   "execution_count": null,
   "id": "2ff94249",
   "metadata": {},
   "outputs": [],
   "source": [
    "plt.figure(figsize=(12, 5))\n",
    "\n",
    "plt.subplot(1, 2, 1)\n",
    "sns.histplot(df1['Price_Log'], bins=30, kde=True, color=\"green\", edgecolor=\"black\")\n",
    "plt.title(\"Log-Transformed Price Distribution\")\n",
    "plt.xlabel(\"Price_Log\")\n",
    "plt.ylabel(\"Frequency\")\n",
    "\n",
    "plt.subplot(1, 2, 2)\n",
    "sns.histplot(df1['Price_BoxCox'], bins=30, kde=True, color=\"blue\", edgecolor=\"black\")\n",
    "plt.title(\"Box-Cox Transformed Price Distribution\")\n",
    "plt.xlabel(\"Price_BoxCox\")\n",
    "plt.ylabel(\"Frequency\")\n",
    "plt.show()"
   ]
  },
  {
   "cell_type": "markdown",
   "id": "3f618a08",
   "metadata": {},
   "source": [
    "\n",
    "#### we're dropping the `Price Column` as we've transformed and we'll consider the value of price(box-cox) transformation as it shows normal distribution."
   ]
  },
  {
   "cell_type": "code",
   "execution_count": null,
   "id": "4e33a841",
   "metadata": {},
   "outputs": [],
   "source": [
    "#df1 = df1.drop(columns=['Price'])"
   ]
  },
  {
   "cell_type": "markdown",
   "id": "dbe5b899",
   "metadata": {},
   "source": [
    "\n",
    "#### Dropping the log transformation because it is not necessary for the analysis as we've Box_Cox tansformation"
   ]
  },
  {
   "cell_type": "code",
   "execution_count": null,
   "id": "19440987",
   "metadata": {},
   "outputs": [],
   "source": [
    "df1 = df1.drop(columns=['Price_Log'])"
   ]
  },
  {
   "cell_type": "markdown",
   "id": "f4d88681",
   "metadata": {},
   "source": [
    "\n",
    "#### Renaming the `Price_BoxCox` column to `Price cloumn`"
   ]
  },
  {
   "cell_type": "code",
   "execution_count": null,
   "id": "8cdc50e4",
   "metadata": {},
   "outputs": [],
   "source": [
    "#df1.rename(columns={'Price_BoxCox': 'Price'}, inplace=True)"
   ]
  },
  {
   "cell_type": "code",
   "execution_count": null,
   "id": "3cbd907b",
   "metadata": {},
   "outputs": [],
   "source": [
    "df1.head()"
   ]
  },
  {
   "cell_type": "markdown",
   "id": "76ba9819",
   "metadata": {},
   "source": [
    "\n",
    "#### Now we'll working on the `RAM` column, as we can see there are few outliers in the rank column. We'll use the interquartile range (IQR)"
   ]
  },
  {
   "cell_type": "code",
   "execution_count": null,
   "id": "15b346cf",
   "metadata": {},
   "outputs": [],
   "source": [
    "Q1 = df1['RAM'].quantile(0.25)  #first quartile\n",
    "Q3 = df1['RAM'].quantile(0.75)  #third quartile\n",
    "IQR = Q3 - Q1  \n",
    "\n",
    "\n",
    "lower_fence = Q1 - 1.5 * IQR\n",
    "upper_fence = Q3 + 1.5 * IQR\n",
    "\n",
    "print(f\"Lower Bound: {lower_fence}, Upper Bound: {upper_fence}\")\n",
    "\n",
    "df1 = df1[(df1['RAM'] >= lower_fence) & (df1['RAM'] <= upper_fence)]"
   ]
  },
  {
   "cell_type": "code",
   "execution_count": null,
   "id": "ec2c0676",
   "metadata": {},
   "outputs": [],
   "source": [
    "print(df1['RAM'].describe())"
   ]
  },
  {
   "cell_type": "code",
   "execution_count": null,
   "id": "5a4e6a6d",
   "metadata": {},
   "outputs": [],
   "source": [
    "sns.histplot(df1['RAM'], bins=30, kde=True)\n",
    "plt.title(\"Histogram of RAM (After Outlier Removal)\")\n",
    "plt.show()"
   ]
  },
  {
   "cell_type": "code",
   "execution_count": null,
   "id": "4ee32d12",
   "metadata": {},
   "outputs": [],
   "source": [
    "df1.info()"
   ]
  },
  {
   "cell_type": "code",
   "execution_count": null,
   "id": "54c39381",
   "metadata": {},
   "outputs": [],
   "source": [
    "df1.skew()"
   ]
  },
  {
   "cell_type": "code",
   "execution_count": null,
   "id": "b57dd23e",
   "metadata": {},
   "outputs": [],
   "source": [
    "df1 = df1.copy()\n",
    "df1['storage'] = np.log1p(df1['storage'])"
   ]
  },
  {
   "cell_type": "code",
   "execution_count": null,
   "id": "c160e40c",
   "metadata": {},
   "outputs": [],
   "source": [
    "plt.figure(figsize=(10, 4))\n",
    "\n",
    "\n",
    "sns.histplot(df1['storage'], bins=30, kde=True, color=\"green\", edgecolor=\"black\")\n",
    "plt.title(\"Log-Transformed Storage Distribution\")\n",
    "plt.xlabel(\"storage_Log\")\n",
    "plt.ylabel(\"Frequency\")"
   ]
  },
  {
   "cell_type": "code",
   "execution_count": null,
   "id": "c15e30fa",
   "metadata": {},
   "outputs": [],
   "source": [
    "df1.skew()"
   ]
  },
  {
   "cell_type": "code",
   "execution_count": null,
   "id": "ebcac322",
   "metadata": {},
   "outputs": [],
   "source": [
    "pos_skewed_cols = ['Battery_cap', 'primary_rear_camera', 'primary_front_camera', 'num_front_camera']"
   ]
  },
  {
   "cell_type": "markdown",
   "id": "5e89da23",
   "metadata": {},
   "source": [
    "\n",
    "#### Applying the log transformation for the positive skewness of the data"
   ]
  },
  {
   "cell_type": "code",
   "execution_count": null,
   "id": "e92ac47c",
   "metadata": {},
   "outputs": [],
   "source": [
    "df1 = df1.copy()\n",
    "for col in pos_skewed_cols:\n",
    "    if (df1[col] > 0).all():  \n",
    "        df1[col + '_Log'] = np.log1p(df1[col])"
   ]
  },
  {
   "cell_type": "code",
   "execution_count": null,
   "id": "b629f5a9",
   "metadata": {},
   "outputs": [],
   "source": [
    "for col in pos_skewed_cols:\n",
    "    df1[col] = np.log1p(df1[col])  \n",
    "    new_skewness = df1[col].skew()  \n",
    "    print(f\"Skewness of {col} after Log Transformation: {new_skewness}\")"
   ]
  },
  {
   "cell_type": "code",
   "execution_count": null,
   "id": "44e3464b",
   "metadata": {},
   "outputs": [],
   "source": [
    "# List of transformed columns to visualize\n",
    "transformed_cols = ['Battery_cap', 'primary_rear_camera', 'primary_front_camera', 'num_front_camera']"
   ]
  },
  {
   "cell_type": "markdown",
   "id": "4d0b4770",
   "metadata": {},
   "source": [
    "\n",
    "#### Plotting the Transformed graph"
   ]
  },
  {
   "cell_type": "code",
   "execution_count": null,
   "id": "b06c41a5",
   "metadata": {},
   "outputs": [],
   "source": [
    "plt.figure(figsize=(12, 8))\n",
    "\n",
    "for i, col in enumerate(transformed_cols, 1):\n",
    "    plt.subplot(2, 2, i)  \n",
    "    sns.histplot(df1[col], bins=30, kde=True, color=\"green\", edgecolor=\"black\")\n",
    "    plt.title(f\"Log-Transformed {col} Distribution\")\n",
    "    plt.xlabel(col)\n",
    "    plt.ylabel(\"Frequency\")\n",
    "\n",
    "plt.tight_layout()\n",
    "plt.show()"
   ]
  },
  {
   "cell_type": "markdown",
   "id": "a7b8bfa8",
   "metadata": {},
   "source": [
    "\n",
    "#### As from the above graph we can see that `num_front_camera` still shows the postive skewness we'll try the IQR to remove the outliers and after that we'll plot the histogram plot"
   ]
  },
  {
   "cell_type": "code",
   "execution_count": null,
   "id": "98b56111",
   "metadata": {},
   "outputs": [],
   "source": [
    "Q1 = df1['num_front_camera'].quantile(0.25)  #first quartile\n",
    "Q3 = df1['num_front_camera'].quantile(0.75)  #third quartile\n",
    "IQR = Q3 - Q1  \n",
    "\n",
    "\n",
    "lower_fence = Q1 - 1.5 * IQR\n",
    "upper_fence = Q3 + 1.5 * IQR\n",
    "\n",
    "print(f\"Lower Bound: {lower_fence}, Upper Bound: {upper_fence}\")\n",
    "\n",
    "df1 = df1[(df1['num_front_camera'] >= lower_fence) & (df1['num_front_camera'] <= upper_fence)]"
   ]
  },
  {
   "cell_type": "code",
   "execution_count": null,
   "id": "524f5e97",
   "metadata": {},
   "outputs": [],
   "source": [
    "Q1 = df1['primary_front_camera'].quantile(0.25)  #first quartile\n",
    "Q3 = df1['primary_front_camera'].quantile(0.75)  #third quartile\n",
    "IQR = Q3 - Q1  \n",
    "\n",
    "\n",
    "lower_fence = Q1 - 1.5 * IQR\n",
    "upper_fence = Q3 + 1.5 * IQR\n",
    "\n",
    "print(f\"Lower Bound: {lower_fence}, Upper Bound: {upper_fence}\")\n",
    "\n",
    "df1 = df1[(df1['primary_front_camera'] >= lower_fence) & (df1['primary_front_camera'] <= upper_fence)]"
   ]
  },
  {
   "cell_type": "code",
   "execution_count": null,
   "id": "3c01310d",
   "metadata": {},
   "outputs": [],
   "source": [
    "neg_skewed_cols = ['num_core', 'display_size(inch)', 'refresh_rate(hz)']"
   ]
  },
  {
   "cell_type": "code",
   "execution_count": null,
   "id": "50b0c5cb",
   "metadata": {},
   "outputs": [],
   "source": [
    "for col in neg_skewed_cols:  \n",
    "    if (df1[col] < df1[col].max()).all():  \n",
    "        df1[col] = np.log1p(df1[col].max() - df1[col])"
   ]
  },
  {
   "cell_type": "code",
   "execution_count": null,
   "id": "ed281232",
   "metadata": {},
   "outputs": [],
   "source": [
    "from scipy.stats import boxcox\n",
    "\n",
    "for col in neg_skewed_cols:\n",
    "    df1[col], _ = boxcox(df1[col] + 1)  # Box-Cox Transformation\n",
    "    new_skewness = df1[col].skew()  # Checking new skewness\n",
    "    print(f\"Skewness of {col} after Box-Cox Transformation: {new_skewness}\")"
   ]
  },
  {
   "cell_type": "code",
   "execution_count": null,
   "id": "ef2f54b9",
   "metadata": {},
   "outputs": [],
   "source": [
    "df1.skew()"
   ]
  },
  {
   "cell_type": "markdown",
   "id": "0061a84a",
   "metadata": {},
   "source": [
    "\n",
    "#### Now we'll do encoding to our data"
   ]
  },
  {
   "cell_type": "code",
   "execution_count": null,
   "id": "2b864539",
   "metadata": {},
   "outputs": [],
   "source": [
    "df1.to_csv('preprocessed_data.csv', index=False)"
   ]
  },
  {
   "cell_type": "markdown",
   "id": "e75723ba",
   "metadata": {},
   "source": [
    "\n",
    "#### Encoding the Categorical columns"
   ]
  },
  {
   "cell_type": "code",
   "execution_count": null,
   "id": "b8dc482a",
   "metadata": {},
   "outputs": [],
   "source": [
    "from sklearn.preprocessing import LabelEncoder\n",
    "\n",
    "# Encode categorical columns\n",
    "cat_cols = ['brand_name', 'OS', 'has_fast_charging', 'has_fingerprints', \n",
    "            'has_nfc', 'has_5g', 'processor_brand', 'display_types']\n",
    "encoder = LabelEncoder()\n",
    "\n",
    "for col in cat_cols:\n",
    "    df1[col] = encoder.fit_transform(df1[col])"
   ]
  },
  {
   "cell_type": "code",
   "execution_count": null,
   "id": "c84bcd4e",
   "metadata": {},
   "outputs": [],
   "source": [
    "df1.dtypes"
   ]
  },
  {
   "cell_type": "code",
   "execution_count": null,
   "id": "7edfd373",
   "metadata": {},
   "outputs": [],
   "source": [
    "from sklearn.preprocessing import StandardScaler\n",
    "\n",
    "scaler = StandardScaler()\n",
    "df1[numeric_cols] = scaler.fit_transform(df1[numeric_cols])"
   ]
  },
  {
   "cell_type": "code",
   "execution_count": null,
   "id": "d8193ee9",
   "metadata": {},
   "outputs": [],
   "source": [
    "df1[numeric_cols].describe()"
   ]
  },
  {
   "cell_type": "code",
   "execution_count": null,
   "id": "a9824c2d",
   "metadata": {},
   "outputs": [],
   "source": [
    "plt.figure(figsize=(12,8))\n",
    "sns.heatmap(df1.corr(), annot=True, cmap=\"coolwarm\", fmt=\".2f\")\n",
    "plt.title(\"Feature Correlation Heatmap\")\n",
    "plt.show()"
   ]
  },
  {
   "cell_type": "code",
   "execution_count": null,
   "id": "f995f025",
   "metadata": {},
   "outputs": [],
   "source": [
    "df1 = df1.drop(columns=['num_front_camera'])"
   ]
  },
  {
   "cell_type": "code",
   "execution_count": null,
   "id": "6c0379b3",
   "metadata": {},
   "outputs": [],
   "source": [
    "X = df1.drop(columns=[\"price_range\"])  # Independent variables\n",
    "y = df1[\"price_range\"]  # Target variable"
   ]
  }
 ],
 "metadata": {
  "kernelspec": {
   "display_name": "Python 3",
   "language": "python",
   "name": "python3"
  },
  "language_info": {
   "codemirror_mode": {
    "name": "ipython",
    "version": 3
   },
   "file_extension": ".py",
   "mimetype": "text/x-python",
   "name": "python",
   "nbconvert_exporter": "python",
   "pygments_lexer": "ipython3",
   "version": "3.10.6"
  }
 },
 "nbformat": 4,
 "nbformat_minor": 5
}
